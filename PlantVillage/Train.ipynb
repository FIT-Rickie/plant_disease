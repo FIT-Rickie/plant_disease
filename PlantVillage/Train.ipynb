{
 "cells": [
  {
   "cell_type": "code",
   "execution_count": 2,
   "id": "9aab0f32-ddb5-4a34-b702-a554aef84d11",
   "metadata": {},
   "outputs": [],
   "source": [
    "import torch\n",
    "import torch.nn as nn\n",
    "import torch.optim as optim\n",
    "from torch.utils.data import Dataset, DataLoader\n",
    "from torchvision import transforms, models\n",
    "from PIL import Image\n",
    "import os"
   ]
  },
  {
   "cell_type": "code",
   "execution_count": 14,
   "id": "33622fbd-fba3-48e4-9b2d-5ccda199b4b7",
   "metadata": {},
   "outputs": [],
   "source": [
    "def list_files_in_directory(directory):\n",
    "    # List all files in the given directory\n",
    "    filenames = []\n",
    "    for filename in os.listdir(directory):\n",
    "        # Construct the full file path\n",
    "        file_path = os.path.join(directory, filename)\n",
    "        # Check if it is a file (not a directory)\n",
    "        if os.path.isfile(file_path):\n",
    "            filenames.append(os.path.join(directory, filename))\n",
    "    return filenames\n"
   ]
  },
  {
   "cell_type": "code",
   "execution_count": 17,
   "id": "7d32e956-205f-49c0-90a2-bc82c03e2160",
   "metadata": {},
   "outputs": [
    {
     "data": {
      "text/plain": [
       "'./Potato___healthy/61b8a692-91d8-40f5-a4a4-4d910875a638___RS_HL 1966.JPG'"
      ]
     },
     "execution_count": 17,
     "metadata": {},
     "output_type": "execute_result"
    }
   ],
   "source": [
    "\"\"\"directory_path = './Potato___healthy'\n",
    "files = list_files_in_directory(directory_path)\n",
    "print(files)\"\"\"\n",
    "healthy_files[0]"
   ]
  },
  {
   "cell_type": "code",
   "execution_count": 18,
   "id": "dd4af340-3f92-44d8-a6fd-b6c6532131e4",
   "metadata": {},
   "outputs": [],
   "source": [
    "healthy_files = list_files_in_directory(\"./Potato___healthy\")\n",
    "early_blights = list_files_in_directory(\"./Potato___Early_blight\")\n",
    "late_blights = list_files_in_directory(\"./Potato___Late_blight\")\n"
   ]
  },
  {
   "cell_type": "code",
   "execution_count": 19,
   "id": "361ba20f-ede8-418a-aa3d-75deedc5fc42",
   "metadata": {},
   "outputs": [],
   "source": [
    "# Custom Dataset\n",
    "class PlantDataset(Dataset):\n",
    "    def __init__(self, healthy_files, early_blights_files, late_blights_files, transform=None):\n",
    "        self.filenames = healthy_files + early_blights_files + late_blights_files\n",
    "        self.labels = [0] * len(healthy_files) + [1] * len(early_blights_files) + [2] * len(late_blights_files) # 0 for cat, 1 for dog\n",
    "        self.transform = transform\n",
    "\n",
    "    def __len__(self):\n",
    "        return len(self.filenames)\n",
    "\n",
    "    def __getitem__(self, idx):\n",
    "        img_path = self.filenames[idx]\n",
    "        image = Image.open(img_path)\n",
    "        label = self.labels[idx]\n",
    "        \n",
    "        if self.transform:\n",
    "            image = self.transform(image)\n",
    "        \n",
    "        return image, label\n",
    "\n",
    "# Define transformations\n",
    "transform = transforms.Compose([\n",
    "    transforms.Resize((128, 128)),\n",
    "    transforms.ToTensor(),\n",
    "])"
   ]
  },
  {
   "cell_type": "code",
   "execution_count": 20,
   "id": "9ca78e34-4882-4f89-b0d5-8f1e49f83935",
   "metadata": {},
   "outputs": [],
   "source": [
    "# Create dataset and dataloader\n",
    "dataset = PlantDataset(healthy_files, early_blights, late_blights, transform=transform)\n",
    "dataloader = DataLoader(dataset, batch_size=32, shuffle=True)\n"
   ]
  },
  {
   "cell_type": "code",
   "execution_count": 24,
   "id": "899be09d-e4c9-4309-b134-32a9aab3c622",
   "metadata": {},
   "outputs": [],
   "source": [
    "# Define the model\n",
    "class SimpleCNN(nn.Module):\n",
    "    def __init__(self):\n",
    "        super(SimpleCNN, self).__init__()\n",
    "        self.conv1 = nn.Conv2d(3, 16, kernel_size=3, stride=1, padding=1)\n",
    "        self.conv2 = nn.Conv2d(16, 32, kernel_size=3, stride=1, padding=1)\n",
    "        self.pool = nn.MaxPool2d(kernel_size=2, stride=2, padding=0)\n",
    "        self.fc1 = nn.Linear(32 * 32 * 32, 128)\n",
    "        self.fc2 = nn.Linear(128, 3)  # 2 classes: cat and dog\n",
    "    \n",
    "    def forward(self, x):\n",
    "        x = self.pool(torch.relu(self.conv1(x)))\n",
    "        x = self.pool(torch.relu(self.conv2(x)))\n",
    "        x = x.view(-1, 32 * 32 * 32)\n",
    "        x = torch.relu(self.fc1(x))\n",
    "        x = self.fc2(x)\n",
    "        return x"
   ]
  },
  {
   "cell_type": "code",
   "execution_count": 25,
   "id": "e7b409ea-b7de-4e8c-8872-ab42dd52ecd3",
   "metadata": {},
   "outputs": [],
   "source": [
    "# Initialize the model, loss function and optimizer\n",
    "model = SimpleCNN()\n",
    "criterion = nn.CrossEntropyLoss()\n",
    "optimizer = optim.Adam(model.parameters(), lr=0.001)"
   ]
  },
  {
   "cell_type": "code",
   "execution_count": 26,
   "id": "38f362aa-e294-475d-976d-d8d4cd664c9e",
   "metadata": {},
   "outputs": [
    {
     "name": "stdout",
     "output_type": "stream",
     "text": [
      "Epoch [1/10], Loss: 0.4980\n",
      "Epoch [2/10], Loss: 0.1879\n",
      "Epoch [3/10], Loss: 0.1162\n",
      "Epoch [4/10], Loss: 0.1042\n",
      "Epoch [5/10], Loss: 0.0677\n",
      "Epoch [6/10], Loss: 0.0632\n",
      "Epoch [7/10], Loss: 0.0751\n",
      "Epoch [8/10], Loss: 0.0576\n",
      "Epoch [9/10], Loss: 0.0259\n",
      "Epoch [10/10], Loss: 0.0121\n"
     ]
    }
   ],
   "source": [
    "num_epochs = 10\n",
    "\n",
    "for epoch in range(num_epochs):\n",
    "    running_loss = 0.0\n",
    "    for images, labels in dataloader:\n",
    "        optimizer.zero_grad()\n",
    "        \n",
    "        outputs = model(images)\n",
    "        loss = criterion(outputs, labels)\n",
    "        loss.backward()\n",
    "        optimizer.step()\n",
    "        \n",
    "        running_loss += loss.item()\n",
    "    \n",
    "    print(f'Epoch [{epoch + 1}/{num_epochs}], Loss: {running_loss/len(dataloader):.4f}')\n",
    "\n",
    "# Save the model\n",
    "torch.save(model.state_dict(), 'plant_disease.pth')"
   ]
  },
  {
   "cell_type": "code",
   "execution_count": null,
   "id": "41557772-1faa-46b2-b3a3-00911d0b800a",
   "metadata": {},
   "outputs": [],
   "source": []
  },
  {
   "cell_type": "code",
   "execution_count": null,
   "id": "701e9cec-ba4d-487b-818b-4649566ec81a",
   "metadata": {},
   "outputs": [],
   "source": []
  },
  {
   "cell_type": "code",
   "execution_count": null,
   "id": "632df2fa-75ab-48be-b269-79c30b1b6e45",
   "metadata": {},
   "outputs": [],
   "source": []
  },
  {
   "cell_type": "code",
   "execution_count": null,
   "id": "46202657-23bc-40ec-aa61-cdb0708df20b",
   "metadata": {},
   "outputs": [],
   "source": []
  }
 ],
 "metadata": {
  "kernelspec": {
   "display_name": "Python 3 (ipykernel)",
   "language": "python",
   "name": "python3"
  },
  "language_info": {
   "codemirror_mode": {
    "name": "ipython",
    "version": 3
   },
   "file_extension": ".py",
   "mimetype": "text/x-python",
   "name": "python",
   "nbconvert_exporter": "python",
   "pygments_lexer": "ipython3",
   "version": "3.11.7"
  }
 },
 "nbformat": 4,
 "nbformat_minor": 5
}
