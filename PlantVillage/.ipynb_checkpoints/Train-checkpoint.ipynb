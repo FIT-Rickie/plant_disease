{
 "cells": [
  {
   "cell_type": "code",
   "execution_count": 3,
   "id": "9aab0f32-ddb5-4a34-b702-a554aef84d11",
   "metadata": {},
   "outputs": [],
   "source": [
    "import torch\n",
    "import torch.nn as nn\n",
    "import torch.optim as optim\n",
    "from torch.utils.data import Dataset, DataLoader\n",
    "from torchvision import transforms, models\n",
    "from PIL import Image\n",
    "import os"
   ]
  },
  {
   "cell_type": "code",
   "execution_count": 5,
   "id": "33622fbd-fba3-48e4-9b2d-5ccda199b4b7",
   "metadata": {},
   "outputs": [],
   "source": [
    "\n",
    "def list_files_in_directory(directory):\n",
    "    # List all files in the given directory\n",
    "    filenames = []\n",
    "    for filename in os.listdir(directory):\n",
    "        # Construct the full file path\n",
    "        file_path = os.path.join(directory, filename)\n",
    "        # Check if it is a file (not a directory)\n",
    "        if os.path.isfile(file_path):\n",
    "            filenames.append(filename)\n",
    "    return filenames\n"
   ]
  },
  {
   "cell_type": "code",
   "execution_count": null,
   "id": "7d32e956-205f-49c0-90a2-bc82c03e2160",
   "metadata": {},
   "outputs": [],
   "source": [
    "directory_path = '/path/to/your/directory'\n",
    "files = list_files_in_directory(directory_path)\n",
    "print(files)\n"
   ]
  }
 ],
 "metadata": {
  "kernelspec": {
   "display_name": "Python 3 (ipykernel)",
   "language": "python",
   "name": "python3"
  },
  "language_info": {
   "codemirror_mode": {
    "name": "ipython",
    "version": 3
   },
   "file_extension": ".py",
   "mimetype": "text/x-python",
   "name": "python",
   "nbconvert_exporter": "python",
   "pygments_lexer": "ipython3",
   "version": "3.11.7"
  }
 },
 "nbformat": 4,
 "nbformat_minor": 5
}
